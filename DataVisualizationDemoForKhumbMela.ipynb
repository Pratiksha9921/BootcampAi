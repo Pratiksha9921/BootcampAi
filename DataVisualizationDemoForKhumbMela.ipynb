{
 "cells": [
  {
   "cell_type": "code",
   "execution_count": null,
   "id": "383e9ae7-f0dc-4778-994a-3dccf84dd032",
   "metadata": {},
   "outputs": [],
   "source": [
    "!pip install matplotliB\n"
   ]
  },
  {
   "cell_type": "code",
   "execution_count": 2,
   "id": "dc8193ea-4474-474d-af8a-33cecef16c47",
   "metadata": {},
   "outputs": [],
   "source": [
    "import matplotlib.pyplot as plt\n",
    "import numpy as np\n",
    "import pandas as pd\n"
   ]
  },
  {
   "cell_type": "code",
   "execution_count": null,
   "id": "97d35cf1-d263-4817-890c-adfd709a03a6",
   "metadata": {},
   "outputs": [],
   "source": [
    "# Data\n",
    "x = np.arange(0, 10, 1)  # X-axis: 0 to 9\n",
    "y = x ** 2               # Y-axis: Square of x\n",
    "\n",
    "# Basic Line Plot\n",
    "plt.plot(x, y)\n"
   ]
  },
  {
   "cell_type": "code",
   "execution_count": null,
   "id": "d214f086-af4f-402d-b53e-25fd4288c8e0",
   "metadata": {},
   "outputs": [],
   "source": [
    "# Data\n",
    "x = np.arange(0, 10, 1)  # X-axis: 0 to 9\n",
    "y = x ** 2               # Y-axis: Square of x\n",
    "\n",
    "# Basic Line Plot\n",
    "plt.plot(x, y)\n",
    "\n",
    "# Adding labels and title\n",
    "plt.xlabel('X-axis (Numbers)')\n",
    "plt.ylabel('Y-axis (Squares)')\n",
    "plt.title('Simple Line Plot for demonstration')\n",
    "\n",
    "# Display the plot\n",
    "plt.show()\n"
   ]
  },
  {
   "cell_type": "code",
   "execution_count": null,
   "id": "7912997b-8277-4e24-a8e5-57b7fd616cf6",
   "metadata": {},
   "outputs": [],
   "source": [
    "# Data for plotting a simple line chart\n",
    "x = np.arange(0, 10, 1)  # X-axis: 0 to 9\n",
    "y = x ** 2               # Y-axis: Square of x\n",
    "\n",
    "# Basic Line Plot\n",
    "plt.plot(x, y)\n",
    "\n",
    "# Adding labels and title\n",
    "plt.xlabel('X-axis (Numbers)')\n",
    "plt.ylabel('Y-axis (Squares)')\n",
    "plt.title('Simple Line Plot')\n",
    "\n",
    "# Display the plot\n",
    "plt.show()\n",
    "# Key Functions:\n",
    "# plot() → Draws the line chart.\n",
    "# xlabel(), ylabel() → Labels for the axes.\n",
    "# title() → Adds a title.\n",
    "# show() → Displays the plot in Jupyter.\n"
   ]
  },
  {
   "cell_type": "code",
   "execution_count": null,
   "id": "6b04c871-58ed-4a24-9232-bffd286b818b",
   "metadata": {},
   "outputs": [],
   "source": [
    "# Custom Line Plot\n",
    "plt.plot(x, y, color='yellow', linestyle='--', marker='x')\n",
    "\n",
    "plt.xlabel('Numbers')\n",
    "plt.ylabel('Squares')\n",
    "plt.title('Customized Line Plot')\n",
    "\n",
    "plt.grid(True)  # Adds a grid for better readability\n",
    "plt.show()\n",
    "\n",
    "#Customizations:\n",
    "#color='red' → Changes line color.\n",
    "#linestyle='--' → Makes the line dashed.\n",
    "#marker='o' → Adds circular markers to data points.\n",
    "#grid() → Adds grid lines.\n"
   ]
  },
  {
   "cell_type": "code",
   "execution_count": null,
   "id": "8ce2ebc7-7362-4eb5-81b0-3c222d7d5f04",
   "metadata": {},
   "outputs": [],
   "source": [
    "# Generating Sample Data for Khubh Mela\n",
    "days = ['Day 1', 'Day 2', 'Day 3', 'Day 4', 'Day 5']\n",
    "visitors = np.random.randint(50000, 200000, size=5)\n",
    "cities = ['Prayagraj', 'Varanasi', 'Lucknow', 'Kanpur', 'Agra']\n",
    "participants = np.random.randint(3000, 15000, size=5)\n",
    "visitors\n",
    "#array([122038, 132960,  78229, 108392, 143408], dtype=int32)"
   ]
  },
  {
   "cell_type": "code",
   "execution_count": null,
   "id": "1d595f68-8bc2-408a-b2cf-e89bfb12ef2c",
   "metadata": {},
   "outputs": [],
   "source": [
    "# Creating DataFrames\n",
    "df_visitors = pd.DataFrame({'Day': days, 'Visitors': visitors})\n",
    "df_participants = pd.DataFrame({'City': cities, 'Participants': participants})\n",
    "df_visitors\n",
    "df_participants\n"
   ]
  },
  {
   "cell_type": "code",
   "execution_count": null,
   "id": "bc29f529-d42f-42b2-a626-a3120687b943",
   "metadata": {},
   "outputs": [],
   "source": [
    "# Line Plot: Number of Visitors Over Different Days\n",
    "plt.figure(figsize=(8, 5))\n",
    "plt.plot(df_visitors['Day'], df_visitors['Visitors'], marker='o', color='blue')\n",
    "plt.xlabel('Days')\n",
    "plt.ylabel('Number of Visitors')\n",
    "plt.title('Visitors During Khubh Mela Over Days')\n",
    "plt.grid(True)\n",
    "plt.show()\n"
   ]
  },
  {
   "cell_type": "code",
   "execution_count": null,
   "id": "aae4502c-dea5-47bd-9678-9ebcb5b9131c",
   "metadata": {},
   "outputs": [],
   "source": [
    "# Bar Chart: Participants from Different Cities\n",
    "plt.figure(figsize=(8, 5))\n",
    "plt.bar(df_participants['City'], df_participants['Participants'], color='orange')\n",
    "plt.xlabel('Cities')\n",
    "plt.ylabel('Number of Participants')\n",
    "plt.title('Participants from Different Cities - Khubh Mela')\n",
    "plt.show()\n"
   ]
  },
  {
   "cell_type": "code",
   "execution_count": null,
   "id": "648dcc59-e29f-43bc-90c5-e12aefedc256",
   "metadata": {},
   "outputs": [],
   "source": [
    "# Pie Chart: Distribution of Participants by City\n",
    "plt.figure(figsize=(8, 8))\n",
    "plt.pie(df_participants['Participants'], labels=df_participants['City'], autopct='%1.1f%%', colors=plt.cm.Paired.colors)\n",
    "plt.title('Participant Distribution by City')\n",
    "plt.show()\n"
   ]
  },
  {
   "cell_type": "code",
   "execution_count": null,
   "id": "9bd659e1-685b-4512-aa48-0ac71eea0cb4",
   "metadata": {},
   "outputs": [],
   "source": [
    "# Multiple Plots in One Figure\n",
    "plt.figure(figsize=(12, 6))\n",
    "\n",
    "# Subplot 1: Line Plot\n",
    "plt.subplot(1, 2, 1)\n",
    "plt.plot(df_visitors['Day'], df_visitors['Visitors'], marker='s', color='green')\n",
    "plt.title('Daily Visitors')\n",
    "plt.xlabel('Days')\n",
    "plt.ylabel('Visitors')\n",
    "\n",
    "# Subplot 2: Bar Chart\n",
    "plt.subplot(1, 2, 2)\n",
    "plt.bar(df_participants['City'], df_participants['Participants'], color='purple')\n",
    "plt.title('City-wise Participants')\n",
    "plt.xlabel('Cities')\n",
    "plt.ylabel('Participants')\n",
    "\n",
    "plt.tight_layout()\n",
    "plt.show()\n",
    "\n",
    "# Adding Legends with Multiple Lines\n",
    "plt.figure(figsize=(8, 5))\n",
    "x = np.arange(1, 6)\n",
    "plt.plot(x, visitors, label='Visitors Trend', linestyle='-', marker='o')\n",
    "plt.plot(x, participants, label='Participants Trend', linestyle='--', marker='s')\n",
    "plt.xlabel('Days/Cities Index')\n",
    "plt.ylabel('Count')\n",
    "plt.title('Visitors & Participants Trend - Khubh Mela')\n",
    "plt.legend()\n",
    "plt.grid(True)\n",
    "plt.show()\n",
    "\n",
    "# Saving a Plot\n",
    "plt.figure(figsize=(8, 5))\n",
    "plt.plot(df_visitors['Day'], df_visitors['Visitors'], color='red')\n",
    "plt.title('Saved Plot Example - Visitors Trend')\n",
    "plt.savefig('khubh_mela_visitors_trend.png')\n",
    "plt.show()\n"
   ]
  },
  {
   "cell_type": "code",
   "execution_count": null,
   "id": "18da816b-63bc-44ce-ada4-248ce2128c8e",
   "metadata": {},
   "outputs": [],
   "source": [
    "Assignment: Create a visualization for Khubh Mela data.\n",
    "1. Plot the number of visitors over different days (Line Plot).\n",
    "2. Show the distribution of participants by city (Bar Chart).\n",
    "3. Use legends, gridlines, and save the plot.\n",
    "4. Upload the completed ipynb in your github repository for submission and evaluation"
   ]
  }
 ],
 "metadata": {
  "kernelspec": {
   "display_name": "Python [conda env:base] *",
   "language": "python",
   "name": "conda-base-py"
  },
  "language_info": {
   "codemirror_mode": {
    "name": "ipython",
    "version": 3
   },
   "file_extension": ".py",
   "mimetype": "text/x-python",
   "name": "python",
   "nbconvert_exporter": "python",
   "pygments_lexer": "ipython3",
   "version": "3.12.7"
  }
 },
 "nbformat": 4,
 "nbformat_minor": 5
}
