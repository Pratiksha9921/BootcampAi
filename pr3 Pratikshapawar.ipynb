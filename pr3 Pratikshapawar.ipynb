{
 "cells": [
  {
   "cell_type": "code",
   "execution_count": 5,
   "id": "ae306529-877e-404d-b9ae-e7ba3a974f8d",
   "metadata": {},
   "outputs": [],
   "source": [
    "import pandas as pd\n"
   ]
  },
  {
   "cell_type": "code",
   "execution_count": 7,
   "id": "9ce73992-0ea1-4c21-914b-6d764e2b99f3",
   "metadata": {},
   "outputs": [],
   "source": [
    "std = \"Student_preference.csv\"\n",
    "df = pd.read_csv(std)\n"
   ]
  },
  {
   "cell_type": "code",
   "execution_count": 9,
   "id": "2b1d8156-5485-430f-9776-748eea3af353",
   "metadata": {},
   "outputs": [],
   "source": [
    "missing_rows_count = df.isnull().any(axis=1).sum()\n"
   ]
  },
  {
   "cell_type": "code",
   "execution_count": 11,
   "id": "8b0bf5f6-b5e5-4ee8-adff-e95a4e131556",
   "metadata": {},
   "outputs": [
    {
     "name": "stdout",
     "output_type": "stream",
     "text": [
      "Number of rows with missing data: 0\n"
     ]
    }
   ],
   "source": [
    "print(f\"Number of rows with missing data: {missing_rows_count}\")\n"
   ]
  },
  {
   "cell_type": "code",
   "execution_count": null,
   "id": "b5240951-b364-4ff7-a7ba-9f0b9fa453e7",
   "metadata": {},
   "outputs": [],
   "source": []
  }
 ],
 "metadata": {
  "kernelspec": {
   "display_name": "Python [conda env:base] *",
   "language": "python",
   "name": "conda-base-py"
  },
  "language_info": {
   "codemirror_mode": {
    "name": "ipython",
    "version": 3
   },
   "file_extension": ".py",
   "mimetype": "text/x-python",
   "name": "python",
   "nbconvert_exporter": "python",
   "pygments_lexer": "ipython3",
   "version": "3.12.7"
  }
 },
 "nbformat": 4,
 "nbformat_minor": 5
}
