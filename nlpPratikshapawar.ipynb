{
 "cells": [
  {
   "cell_type": "code",
   "execution_count": 1,
   "id": "3b26881e-aa3e-499a-9bc7-af72a3f8da7a",
   "metadata": {},
   "outputs": [
    {
     "name": "stdout",
     "output_type": "stream",
     "text": [
      "Requirement already satisfied: nltk in d:\\pr\\lib\\site-packages (3.9.1)\n",
      "Requirement already satisfied: click in d:\\pr\\lib\\site-packages (from nltk) (8.1.7)\n",
      "Requirement already satisfied: joblib in d:\\pr\\lib\\site-packages (from nltk) (1.4.2)\n",
      "Requirement already satisfied: regex>=2021.8.3 in d:\\pr\\lib\\site-packages (from nltk) (2024.9.11)\n",
      "Requirement already satisfied: tqdm in d:\\pr\\lib\\site-packages (from nltk) (4.66.5)\n",
      "Requirement already satisfied: colorama in d:\\pr\\lib\\site-packages (from click->nltk) (0.4.6)\n"
     ]
    }
   ],
   "source": [
    "!pip install nltk\n"
   ]
  },
  {
   "cell_type": "code",
   "execution_count": 5,
   "id": "54f6a35c-1c0c-496c-a7b5-3334cd23b030",
   "metadata": {},
   "outputs": [
    {
     "name": "stderr",
     "output_type": "stream",
     "text": [
      "[nltk_data] Downloading package punkt to C:\\Users\\Pratiksha\n",
      "[nltk_data]     Pawar\\AppData\\Roaming\\nltk_data...\n",
      "[nltk_data]   Package punkt is already up-to-date!\n",
      "[nltk_data] Downloading package stopwords to C:\\Users\\Pratiksha\n",
      "[nltk_data]     Pawar\\AppData\\Roaming\\nltk_data...\n",
      "[nltk_data]   Package stopwords is already up-to-date!\n",
      "[nltk_data] Downloading package wordnet to C:\\Users\\Pratiksha\n",
      "[nltk_data]     Pawar\\AppData\\Roaming\\nltk_data...\n",
      "[nltk_data]   Package wordnet is already up-to-date!\n",
      "[nltk_data] Downloading package averaged_perceptron_tagger to\n",
      "[nltk_data]     C:\\Users\\Pratiksha Pawar\\AppData\\Roaming\\nltk_data...\n",
      "[nltk_data]   Package averaged_perceptron_tagger is already up-to-\n",
      "[nltk_data]       date!\n",
      "[nltk_data] Downloading package punkt_tab to C:\\Users\\Pratiksha\n",
      "[nltk_data]     Pawar\\AppData\\Roaming\\nltk_data...\n",
      "[nltk_data]   Package punkt_tab is already up-to-date!\n",
      "[nltk_data] Downloading package averaged_perceptron_tagger_eng to\n",
      "[nltk_data]     C:\\Users\\Pratiksha Pawar\\AppData\\Roaming\\nltk_data...\n",
      "[nltk_data]   Package averaged_perceptron_tagger_eng is already up-to-\n",
      "[nltk_data]       date!\n"
     ]
    },
    {
     "data": {
      "text/plain": [
       "True"
      ]
     },
     "execution_count": 5,
     "metadata": {},
     "output_type": "execute_result"
    }
   ],
   "source": [
    "import nltk\n",
    "from nltk.tokenize import sent_tokenize, word_tokenize\n",
    "from nltk.corpus import stopwords\n",
    "from nltk.stem import PorterStemmer\n",
    "from nltk.stem import WordNetLemmatizer\n",
    "from nltk import pos_tag\n",
    "\n",
    "# Ensure you have the required NLTK data packages\n",
    "nltk.download('punkt')\n",
    "nltk.download('stopwords')\n",
    "nltk.download('wordnet')\n",
    "nltk.download('averaged_perceptron_tagger')\n",
    "nltk.download('punkt_tab')\n",
    "nltk.download('averaged_perceptron_tagger_eng')"
   ]
  },
  {
   "cell_type": "code",
   "execution_count": 9,
   "id": "5f58e171-90e8-46ed-bc3b-675f78d5cc2a",
   "metadata": {},
   "outputs": [],
   "source": [
    "text = '''Chhatrapati Shivaji Maharaj, born on February 19, 1630, in the hill-fort of Shivneri, was a prominent Maratha warrior and the founder of the Maratha Empire in western India. His life and legacy have left an indelible mark on Indian history, embodying the spirit of resistance against the Mughal Empire and the quest for self-governance.'''\n",
    "\n"
   ]
  },
  {
   "cell_type": "code",
   "execution_count": 11,
   "id": "0de3bfeb-e861-45d4-8e94-1a35a3efc855",
   "metadata": {},
   "outputs": [
    {
     "name": "stdout",
     "output_type": "stream",
     "text": [
      "Sentences: ['Chhatrapati Shivaji Maharaj, born on February 19, 1630, in the hill-fort of Shivneri, was a prominent Maratha warrior and the founder of the Maratha Empire in western India.', 'His life and legacy have left an indelible mark on Indian history, embodying the spirit of resistance against the Mughal Empire and the quest for self-governance.']\n",
      "Words: ['Chhatrapati', 'Shivaji', 'Maharaj', ',', 'born', 'on', 'February', '19', ',', '1630', ',', 'in', 'the', 'hill-fort', 'of', 'Shivneri', ',', 'was', 'a', 'prominent', 'Maratha', 'warrior', 'and', 'the', 'founder', 'of', 'the', 'Maratha', 'Empire', 'in', 'western', 'India', '.', 'His', 'life', 'and', 'legacy', 'have', 'left', 'an', 'indelible', 'mark', 'on', 'Indian', 'history', ',', 'embodying', 'the', 'spirit', 'of', 'resistance', 'against', 'the', 'Mughal', 'Empire', 'and', 'the', 'quest', 'for', 'self-governance', '.']\n"
     ]
    }
   ],
   "source": [
    "sentences = sent_tokenize(text)\n",
    "words = word_tokenize(text)\n",
    "\n",
    "print(\"Sentences:\", sentences)\n",
    "print(\"Words:\", words)\n"
   ]
  },
  {
   "cell_type": "code",
   "execution_count": 13,
   "id": "b19e8d5b-11c4-4c0f-a261-5d760efd7dca",
   "metadata": {},
   "outputs": [
    {
     "name": "stdout",
     "output_type": "stream",
     "text": [
      "Filtered Words: ['Chhatrapati', 'Shivaji', 'Maharaj', 'born', 'February', 'Shivneri', 'prominent', 'Maratha', 'warrior', 'founder', 'Maratha', 'Empire', 'western', 'India', 'His', 'life', 'legacy', 'left', 'indelible', 'mark', 'Indian', 'history', 'embodying', 'spirit', 'resistance', 'Mughal', 'Empire', 'quest']\n"
     ]
    }
   ],
   "source": [
    "stop_words = set(stopwords.words('english'))\n",
    "filtered_words = [word for word in words if word.isalpha() and word not in stop_words]\n",
    "# The general syntax for a list comprehension is: [expression for item in iterable if condition]\n",
    "print(\"Filtered Words:\", filtered_words)\n"
   ]
  },
  {
   "cell_type": "code",
   "execution_count": 15,
   "id": "930b8fca-a153-4667-80bf-6efc8d3454b0",
   "metadata": {},
   "outputs": [
    {
     "name": "stdout",
     "output_type": "stream",
     "text": [
      "Stemmed Words: ['chhatrapati', 'shivaji', 'maharaj', 'born', 'februari', 'shivneri', 'promin', 'maratha', 'warrior', 'founder', 'maratha', 'empir', 'western', 'india', 'hi', 'life', 'legaci', 'left', 'indel', 'mark', 'indian', 'histori', 'embodi', 'spirit', 'resist', 'mughal', 'empir', 'quest']\n"
     ]
    }
   ],
   "source": [
    "stemmer = PorterStemmer()\n",
    "stemmed_words = [stemmer.stem(word) for word in filtered_words]\n",
    "\n",
    "print(\"Stemmed Words:\", stemmed_words)"
   ]
  },
  {
   "cell_type": "code",
   "execution_count": 17,
   "id": "b662ef52-ae22-4f07-9c35-aed3068a43d8",
   "metadata": {},
   "outputs": [
    {
     "name": "stdout",
     "output_type": "stream",
     "text": [
      "Lemmatized Words: ['Chhatrapati', 'Shivaji', 'Maharaj', 'born', 'February', 'Shivneri', 'prominent', 'Maratha', 'warrior', 'founder', 'Maratha', 'Empire', 'western', 'India', 'His', 'life', 'legacy', 'left', 'indelible', 'mark', 'Indian', 'history', 'embodying', 'spirit', 'resistance', 'Mughal', 'Empire', 'quest']\n"
     ]
    }
   ],
   "source": [
    "lemmatizer = WordNetLemmatizer()\n",
    "lemmatized_words = [lemmatizer.lemmatize(word) for word in filtered_words]\n",
    "\n",
    "print(\"Lemmatized Words:\", lemmatized_words)\n"
   ]
  },
  {
   "cell_type": "code",
   "execution_count": null,
   "id": "3f9ba099-5b55-45cc-9ef9-1d9030b00d3f",
   "metadata": {},
   "outputs": [],
   "source": []
  }
 ],
 "metadata": {
  "kernelspec": {
   "display_name": "Python [conda env:base] *",
   "language": "python",
   "name": "conda-base-py"
  },
  "language_info": {
   "codemirror_mode": {
    "name": "ipython",
    "version": 3
   },
   "file_extension": ".py",
   "mimetype": "text/x-python",
   "name": "python",
   "nbconvert_exporter": "python",
   "pygments_lexer": "ipython3",
   "version": "3.12.7"
  }
 },
 "nbformat": 4,
 "nbformat_minor": 5
}
