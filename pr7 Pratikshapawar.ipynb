{
 "cells": [
  {
   "cell_type": "code",
   "execution_count": 1,
   "id": "57a9293e-390b-45d9-94af-23c01b50fd59",
   "metadata": {},
   "outputs": [],
   "source": [
    "import cv2\n",
    "import numpy as np\n",
    "import matplotlib.pyplot as plt\n"
   ]
  },
  {
   "cell_type": "code",
   "execution_count": 5,
   "id": "d4ae3a93-1890-4506-a961-346be3bd395d",
   "metadata": {},
   "outputs": [
    {
     "name": "stdout",
     "output_type": "stream",
     "text": [
      "<class 'numpy.ndarray'>\n"
     ]
    }
   ],
   "source": [
    "img = cv2.imread(r\"Bappa.jpg\")\n",
    "print(type(img))\n"
   ]
  },
  {
   "cell_type": "code",
   "execution_count": null,
   "id": "121b5256-739a-4bc8-830f-66356c80c0e3",
   "metadata": {},
   "outputs": [],
   "source": [
    "cv2.imshow(\"bootcamp\",img)\n",
    "cv2.waitKey(0)\n",
    "cv2.destroyAllWindows()\n",
    "print(img.shape)\n"
   ]
  },
  {
   "cell_type": "code",
   "execution_count": null,
   "id": "571512b9-8e85-4e78-94db-3a1bedab0bbd",
   "metadata": {},
   "outputs": [],
   "source": [
    "img_resize = cv2.resize(img,(203,300))\n",
    "cv2.imshow(\"manya\",img_resize)\n",
    "cv2.waitKey(0)\n",
    "cv2.destroyAllWindows()\n",
    "print(img_resize.shape)\n"
   ]
  },
  {
   "cell_type": "code",
   "execution_count": null,
   "id": "5e6bf7b8-028a-46f4-a4f5-dc390677ae1a",
   "metadata": {},
   "outputs": [],
   "source": [
    "img_flip = cv2.flip(img,1)\n",
    "cv2.imshow(\"flipped Image\",img_flip)\n",
    "cv2.waitKey(0)\n",
    "cv2.destroyAllWindows()\n"
   ]
  },
  {
   "cell_type": "code",
   "execution_count": null,
   "id": "b2f2e374-1493-4f79-857a-4938e1d59f79",
   "metadata": {},
   "outputs": [],
   "source": [
    "img_crop = img[100:300,200:500]\n",
    "cv2.imshow(\"Cropped Image\",img_crop)\n",
    "cv2.waitKey(0)\n",
    "cv2.destroyAllWindows()\n"
   ]
  },
  {
   "cell_type": "code",
   "execution_count": null,
   "id": "385a70e6-d34c-41a0-b569-7754cd3f5188",
   "metadata": {},
   "outputs": [],
   "source": [
    "cv2.imwrite(r\"croppedImg16.jpg\",img_crop)\n"
   ]
  },
  {
   "cell_type": "code",
   "execution_count": null,
   "id": "8fec69bd-fce3-4c68-b208-a3599fc2d79a",
   "metadata": {},
   "outputs": [],
   "source": []
  }
 ],
 "metadata": {
  "kernelspec": {
   "display_name": "Python [conda env:base] *",
   "language": "python",
   "name": "conda-base-py"
  },
  "language_info": {
   "codemirror_mode": {
    "name": "ipython",
    "version": 3
   },
   "file_extension": ".py",
   "mimetype": "text/x-python",
   "name": "python",
   "nbconvert_exporter": "python",
   "pygments_lexer": "ipython3",
   "version": "3.12.7"
  }
 },
 "nbformat": 4,
 "nbformat_minor": 5
}
