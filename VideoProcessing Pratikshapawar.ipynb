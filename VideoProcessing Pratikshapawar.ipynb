{
 "cells": [
  {
   "cell_type": "code",
   "execution_count": 1,
   "id": "ba7b34fd-eb0a-4e41-88ba-d48fa2cbd57f",
   "metadata": {},
   "outputs": [],
   "source": [
    "import cv2\n"
   ]
  },
  {
   "cell_type": "code",
   "execution_count": 3,
   "id": "0226b41c-eba9-4c9d-a02e-36edd4b44af1",
   "metadata": {},
   "outputs": [],
   "source": [
    "# Initialize the webcam (0 is usually the default camera)\n",
    "cap = cv2.VideoCapture(0)\n"
   ]
  },
  {
   "cell_type": "code",
   "execution_count": 5,
   "id": "0038747d-5e7a-45b2-9fa4-2a00dddd3aff",
   "metadata": {},
   "outputs": [],
   "source": [
    "# Check if the webcam is opened correctly\n",
    "if not cap.isOpened():\n",
    "    print(\"Error: Could not open webcam.\")\n",
    "    exit()\n"
   ]
  },
  {
   "cell_type": "code",
   "execution_count": 7,
   "id": "f2699c0f-d535-4707-9ffc-13512da184ce",
   "metadata": {},
   "outputs": [],
   "source": [
    "# Capture a single frame\n",
    "ret, frame = cap.read()\n"
   ]
  },
  {
   "cell_type": "code",
   "execution_count": null,
   "id": "9cb36ad8-9070-4bd8-9d60-5fbf1f0cb912",
   "metadata": {},
   "outputs": [],
   "source": [
    "# If frame is captured successfully\n",
    "if ret:\n",
    "    # Display the frame in a window\n",
    "    cv2.imshow('Captured Frame', frame)\n",
    "    \n",
    "    # Wait for a key press to close the window\n",
    "    cv2.waitKey(0)\n",
    "\n",
    "# Release the webcam and close the window\n",
    "cap.release()\n",
    "cv2.destroyAllWindows()\n"
   ]
  },
  {
   "cell_type": "code",
   "execution_count": null,
   "id": "39c58280-1dc4-4e85-8556-1dc05c4fdb1a",
   "metadata": {},
   "outputs": [],
   "source": [
    "mport cv2\n",
    "\n",
    "# Initialize the webcam (0 is usually the default camera)\n",
    "cap = cv2.VideoCapture(0)\n",
    "\n",
    "# Check if the webcam is opened correctly\n",
    "if not cap.isOpened():\n",
    "    print(\"Error: Could not open webcam.\")\n",
    "    exit()\n",
    "\n",
    "# Loop to continuously capture frames\n",
    "while True:\n",
    "    # Capture each frame\n",
    "    ret, frame = cap.read()\n",
    "\n",
    "    # If the frame is captured successfully\n",
    "    if ret:\n",
    "        # Display the frame in a window\n",
    "        cv2.imshow('Webcam Feed', frame)\n",
    "\n",
    "        # Wait for 1 ms and check if 'q' is pressed to quit\n",
    "        if cv2.waitKey(1) & 0xFF == ord('q'):\n",
    "            break\n",
    "    else:\n",
    "        print(\"Error: Failed to capture frame.\")\n",
    "        break\n",
    "\n",
    "# Release the webcam and close all OpenCV windows\n",
    "cap.release()\n",
    "cv2.destroyAllWindows()\n"
   ]
  },
  {
   "cell_type": "code",
   "execution_count": null,
   "id": "97daa5ff-ca7e-495d-a2fc-f6cb8ebcf28e",
   "metadata": {},
   "outputs": [],
   "source": [
    "cap.release()\n",
    "cv2.destroyAllWindows()\n"
   ]
  },
  {
   "cell_type": "code",
   "execution_count": null,
   "id": "a01f78e0-dc27-4661-9b2e-01f3f7451a53",
   "metadata": {},
   "outputs": [],
   "source": [
    "q"
   ]
  }
 ],
 "metadata": {
  "kernelspec": {
   "display_name": "Python [conda env:base] *",
   "language": "python",
   "name": "conda-base-py"
  },
  "language_info": {
   "codemirror_mode": {
    "name": "ipython",
    "version": 3
   },
   "file_extension": ".py",
   "mimetype": "text/x-python",
   "name": "python",
   "nbconvert_exporter": "python",
   "pygments_lexer": "ipython3",
   "version": "3.12.7"
  }
 },
 "nbformat": 4,
 "nbformat_minor": 5
}
