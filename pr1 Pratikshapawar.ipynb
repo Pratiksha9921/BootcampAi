{
 "cells": [
  {
   "cell_type": "code",
   "execution_count": 3,
   "id": "46743f95-c2e6-4b33-9df3-cb5e5f04219e",
   "metadata": {},
   "outputs": [],
   "source": [
    "import pandas as pd  \n"
   ]
  },
  {
   "cell_type": "code",
   "execution_count": 18,
   "id": "650988d8-5e5e-4a22-a879-3910d680e7af",
   "metadata": {},
   "outputs": [],
   "source": [
    "file = \"Student_preference.csv\"\n"
   ]
  },
  {
   "cell_type": "code",
   "execution_count": 20,
   "id": "819c29ea-cd88-472a-8458-61874d3856e1",
   "metadata": {},
   "outputs": [],
   "source": [
    "df = pd.read_csv(file)   \n"
   ]
  },
  {
   "cell_type": "code",
   "execution_count": 22,
   "id": "9794a711-f142-45a9-8e82-7d39b0d5f07a",
   "metadata": {},
   "outputs": [
    {
     "name": "stdout",
     "output_type": "stream",
     "text": [
      "   StudentID  G1  G2  G3      Mjob     Fjob  age address  studytime  failures  \\\n",
      "0          1   6   2   2   teacher  at_home   21   rural          3         1   \n",
      "1          2  19  11  18    health  teacher   18   rural          1         1   \n",
      "2          3  14   7  19    health    other   20   urban          1         1   \n",
      "3          4  10   2   6  services   health   21   urban          3         1   \n",
      "4          5   7   0  19    health   health   18   rural          4         1   \n",
      "\n",
      "  schoolsup famsup paid activities nursery higher internet romantic  \n",
      "0        no    yes  yes        yes     yes    yes       no      yes  \n",
      "1        no     no   no         no     yes     no       no       no  \n",
      "2       yes    yes  yes         no      no     no      yes      yes  \n",
      "3       yes     no  yes         no     yes     no       no       no  \n",
      "4        no     no  yes         no     yes    yes      yes       no  \n"
     ]
    }
   ],
   "source": [
    "print(df.head())\n"
   ]
  },
  {
   "cell_type": "code",
   "execution_count": null,
   "id": "d19eff7b-c257-4290-a6a1-4ded2a067152",
   "metadata": {},
   "outputs": [],
   "source": []
  }
 ],
 "metadata": {
  "kernelspec": {
   "display_name": "Python [conda env:base] *",
   "language": "python",
   "name": "conda-base-py"
  },
  "language_info": {
   "codemirror_mode": {
    "name": "ipython",
    "version": 3
   },
   "file_extension": ".py",
   "mimetype": "text/x-python",
   "name": "python",
   "nbconvert_exporter": "python",
   "pygments_lexer": "ipython3",
   "version": "3.12.7"
  }
 },
 "nbformat": 4,
 "nbformat_minor": 5
}
