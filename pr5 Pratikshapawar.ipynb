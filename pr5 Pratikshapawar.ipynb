{
 "cells": [
  {
   "cell_type": "code",
   "execution_count": 1,
   "id": "6e45c96d-4338-466a-a7a3-77159e5830e8",
   "metadata": {},
   "outputs": [],
   "source": [
    "import pandas as pd  \n"
   ]
  },
  {
   "cell_type": "code",
   "execution_count": 3,
   "id": "a71ccea0-f008-44cf-a92c-6787e2ade022",
   "metadata": {},
   "outputs": [],
   "source": [
    "data= \"ipl_matches_smalldata.csv\"  \n"
   ]
  },
  {
   "cell_type": "code",
   "execution_count": 5,
   "id": "b2f10f2e-6535-468d-924b-7e3694ae9765",
   "metadata": {},
   "outputs": [],
   "source": [
    "df = pd.read_csv(data)  \n"
   ]
  },
  {
   "cell_type": "code",
   "execution_count": 7,
   "id": "609ae1e6-12a0-4dff-9e4c-7b407258b891",
   "metadata": {},
   "outputs": [],
   "source": [
    "players_above_500 = df[df['total_runs'] > 500] \n"
   ]
  },
  {
   "cell_type": "code",
   "execution_count": 9,
   "id": "3e88a5fe-3086-457f-b826-6e28a4bc4b02",
   "metadata": {},
   "outputs": [
    {
     "name": "stdout",
     "output_type": "stream",
     "text": [
      "Empty DataFrame\n",
      "Columns: [match_id, inning, batting_team, bowling_team, over, ball, batter, bowler, non_striker, batsman_runs, extra_runs, total_runs, extras_type, is_wicket, player_dismissed, dismissal_kind, fielder]\n",
      "Index: []\n"
     ]
    }
   ],
   "source": [
    "print(players_above_500)\n"
   ]
  },
  {
   "cell_type": "code",
   "execution_count": null,
   "id": "3e57feba-3671-4909-9a7b-ba3720b45974",
   "metadata": {},
   "outputs": [],
   "source": []
  }
 ],
 "metadata": {
  "kernelspec": {
   "display_name": "Python [conda env:base] *",
   "language": "python",
   "name": "conda-base-py"
  },
  "language_info": {
   "codemirror_mode": {
    "name": "ipython",
    "version": 3
   },
   "file_extension": ".py",
   "mimetype": "text/x-python",
   "name": "python",
   "nbconvert_exporter": "python",
   "pygments_lexer": "ipython3",
   "version": "3.12.7"
  }
 },
 "nbformat": 4,
 "nbformat_minor": 5
}
