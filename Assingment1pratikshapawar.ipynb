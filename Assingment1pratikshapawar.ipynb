{
 "cells": [
  {
   "cell_type": "code",
   "execution_count": 5,
   "id": "db65665a-da6d-410d-95eb-684468abc9ce",
   "metadata": {},
   "outputs": [
    {
     "name": "stdout",
     "output_type": "stream",
     "text": [
      "My name is pratiksha\n",
      "ahskitarp si eman yM\n"
     ]
    }
   ],
   "source": [
    "str = \"My name is pratiksha\"\n",
    "print(str)\n",
    "rev_str = str [::-1]\n",
    "print (rev_str)\n"
   ]
  },
  {
   "cell_type": "code",
   "execution_count": 9,
   "id": "2f58e1e7-02dd-4c17-9ee0-64bb4b7ec253",
   "metadata": {},
   "outputs": [
    {
     "name": "stdout",
     "output_type": "stream",
     "text": [
      "Random Numbers: [92, 55, 89, 68, 28, 60, 79, 77, 4, 10, 11, 97]\n",
      "even numbers: [92, 68, 28, 60, 4, 10]\n"
     ]
    }
   ],
   "source": [
    "import random\n",
    "random_numbers = [random.randint (1, 100) for _ in range (12)]\n",
    "print(\"Random Numbers:\", random_numbers)\n",
    "even_numbers = [num for num in random_numbers if num % 2==0]\n",
    "print(\"even numbers:\", even_numbers)"
   ]
  },
  {
   "cell_type": "code",
   "execution_count": null,
   "id": "bcc73906-fb98-4c96-b2e0-6e625b6661e8",
   "metadata": {},
   "outputs": [],
   "source": []
  }
 ],
 "metadata": {
  "kernelspec": {
   "display_name": "Python [conda env:base] *",
   "language": "python",
   "name": "conda-base-py"
  },
  "language_info": {
   "codemirror_mode": {
    "name": "ipython",
    "version": 3
   },
   "file_extension": ".py",
   "mimetype": "text/x-python",
   "name": "python",
   "nbconvert_exporter": "python",
   "pygments_lexer": "ipython3",
   "version": "3.12.7"
  }
 },
 "nbformat": 4,
 "nbformat_minor": 5
}
